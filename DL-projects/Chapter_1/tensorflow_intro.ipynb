{
 "cells": [
  {
   "cell_type": "markdown",
   "id": "924a7d7f",
   "metadata": {},
   "source": [
    "### Introduction to tenssorflow\n",
    "#### Date: 18-04-2022"
   ]
  },
  {
   "cell_type": "code",
   "execution_count": 1,
   "id": "1a564212",
   "metadata": {},
   "outputs": [],
   "source": [
    "# Copyright 2022 MIT 6.S191 Introduction to Deep Learning. All Rights Reserved.\n",
    "# \n",
    "# Licensed under the MIT License. You may not use this file except in compliance\n",
    "# with the License. Use and/or modification of this code outside of 6.S191 must\n",
    "# reference:\n",
    "#\n",
    "# © MIT 6.S191: Introduction to Deep Learning\n",
    "# http://introtodeeplearning.com\n",
    "#"
   ]
  },
  {
   "cell_type": "code",
   "execution_count": 1,
   "id": "7e29282f",
   "metadata": {},
   "outputs": [
    {
     "name": "stdout",
     "output_type": "stream",
     "text": [
      "Requirement already satisfied: mitdeeplearning in c:\\users\\user\\appdata\\local\\programs\\python\\python39\\lib\\site-packages (0.2.0)\n",
      "Requirement already satisfied: numpy in c:\\users\\user\\appdata\\roaming\\python\\python39\\site-packages (from mitdeeplearning) (1.20.0)\n",
      "Requirement already satisfied: gym in c:\\users\\user\\appdata\\local\\programs\\python\\python39\\lib\\site-packages (from mitdeeplearning) (0.23.1)\n",
      "Requirement already satisfied: regex in c:\\users\\user\\appdata\\local\\programs\\python\\python39\\lib\\site-packages (from mitdeeplearning) (2022.3.15)\n",
      "Requirement already satisfied: tqdm in c:\\users\\user\\appdata\\roaming\\python\\python39\\site-packages (from mitdeeplearning) (4.62.3)\n",
      "Requirement already satisfied: cloudpickle>=1.2.0 in c:\\users\\user\\appdata\\local\\programs\\python\\python39\\lib\\site-packages (from gym->mitdeeplearning) (2.0.0)\n",
      "Requirement already satisfied: importlib-metadata>=4.10.0 in c:\\users\\user\\appdata\\local\\programs\\python\\python39\\lib\\site-packages (from gym->mitdeeplearning) (4.10.1)\n",
      "Requirement already satisfied: gym-notices>=0.0.4 in c:\\users\\user\\appdata\\local\\programs\\python\\python39\\lib\\site-packages (from gym->mitdeeplearning) (0.0.6)\n",
      "Requirement already satisfied: colorama in c:\\users\\user\\appdata\\local\\programs\\python\\python39\\lib\\site-packages (from tqdm->mitdeeplearning) (0.4.4)\n",
      "Requirement already satisfied: zipp>=0.5 in c:\\users\\user\\appdata\\local\\programs\\python\\python39\\lib\\site-packages (from importlib-metadata>=4.10.0->gym->mitdeeplearning) (3.7.0)\n"
     ]
    },
    {
     "name": "stderr",
     "output_type": "stream",
     "text": [
      "WARNING: Ignoring invalid distribution -atplotlib (c:\\users\\user\\appdata\\local\\programs\\python\\python39\\lib\\site-packages)\n",
      "WARNING: Ignoring invalid distribution -atplotlib (c:\\users\\user\\appdata\\local\\programs\\python\\python39\\lib\\site-packages)\n",
      "WARNING: Ignoring invalid distribution -atplotlib (c:\\users\\user\\appdata\\local\\programs\\python\\python39\\lib\\site-packages)\n",
      "WARNING: Ignoring invalid distribution -atplotlib (c:\\users\\user\\appdata\\local\\programs\\python\\python39\\lib\\site-packages)\n",
      "WARNING: Ignoring invalid distribution -atplotlib (c:\\users\\user\\appdata\\local\\programs\\python\\python39\\lib\\site-packages)\n",
      "WARNING: Ignoring invalid distribution -atplotlib (c:\\users\\user\\appdata\\local\\programs\\python\\python39\\lib\\site-packages)\n",
      "WARNING: You are using pip version 21.3.1; however, version 22.0.4 is available.\n",
      "You should consider upgrading via the 'C:\\Users\\user\\AppData\\Local\\Programs\\Python\\Python39\\python.exe -m pip install --upgrade pip' command.\n"
     ]
    }
   ],
   "source": [
    "# Download and import the MIT 6.S191 package\n",
    "!pip install mitdeeplearning\n",
    "\n",
    "import mitdeeplearning as mdl\n",
    "import tensorflow as tf\n",
    "import numpy as np\n",
    "import matplotlib.pyplot as plt"
   ]
  },
  {
   "cell_type": "markdown",
   "id": "b23f2147",
   "metadata": {},
   "source": [
    "- The shape of a Tensor defines its number of dimensions and the size of each dimension. The rank of a Tensor provides the number of dimensions (n-dimensions) -- you can also think of this as the Tensor's order or degree."
   ]
  },
  {
   "cell_type": "code",
   "execution_count": 2,
   "id": "c9cdb982",
   "metadata": {},
   "outputs": [
    {
     "name": "stdout",
     "output_type": "stream",
     "text": [
      "Rank is:  0\n",
      "Shape is:  tf.Tensor([], shape=(0,), dtype=int32)\n"
     ]
    }
   ],
   "source": [
    "#Let's first look at 0-d Tensors, of which a scalar is an example:\n",
    "subject = tf.constant('math', tf.string)\n",
    "print('Rank is: ', tf.rank(subject).numpy())\n",
    "print('Shape is: ', tf.shape(subject))"
   ]
  },
  {
   "cell_type": "code",
   "execution_count": 3,
   "id": "085f5562",
   "metadata": {},
   "outputs": [
    {
     "name": "stdout",
     "output_type": "stream",
     "text": [
      "Rank is:  1\n",
      "Shape is:  tf.Tensor([3], shape=(1,), dtype=int32)\n"
     ]
    }
   ],
   "source": [
    "#one dimensional tensor\n",
    "subjects = tf.constant(['math', 'psycology', 'science'], tf.string)\n",
    "print('Rank is: ', tf.rank(subjects).numpy())\n",
    "print('Shape is: ', tf.shape(subjects))"
   ]
  },
  {
   "cell_type": "code",
   "execution_count": 4,
   "id": "c2292786",
   "metadata": {},
   "outputs": [],
   "source": [
    "### Defining higher-order Tensors ###\n",
    "\n",
    "'''TODO: Define a 2-d Tensor'''\n",
    "matrix = tf.constant([[1, 2, 3], [4, 5, 6]], tf.float16)\n",
    "\n",
    "assert isinstance(matrix, tf.Tensor), \"matrix must be a tf Tensor object\"\n",
    "assert tf.rank(matrix).numpy() == 2"
   ]
  },
  {
   "cell_type": "code",
   "execution_count": 5,
   "id": "dbf098a0",
   "metadata": {},
   "outputs": [],
   "source": [
    "'''TODO: Define a 4-d Tensor.'''\n",
    "# Use tf.zeros to initialize a 4-d Tensor of zeros with size 10 x 256 x 256 x 3. \n",
    "# You can think of this as 10 images where each image is RGB 256 x 256.\n",
    "images = tf.zeros([10, 256, 256, 3])\n",
    "\n",
    "assert isinstance(images, tf.Tensor), \"matrix must be a tf Tensor object\"\n",
    "assert tf.rank(images).numpy() == 4, \"matrix must be of rank 4\"\n",
    "assert tf.shape(images).numpy().tolist() == [10, 256, 256, 3], \"matrix is incorrect shape\""
   ]
  },
  {
   "cell_type": "code",
   "execution_count": 6,
   "id": "7f302f9a",
   "metadata": {},
   "outputs": [
    {
     "data": {
      "text/plain": [
       "<tf.Tensor: shape=(2,), dtype=float16, numpy=array([3., 6.], dtype=float16)>"
      ]
     },
     "execution_count": 6,
     "metadata": {},
     "output_type": "execute_result"
    }
   ],
   "source": [
    "#use slicing to access subtensors within a higher-rank Tensor:\n",
    "matrix[:, 2]"
   ]
  },
  {
   "cell_type": "code",
   "execution_count": 7,
   "id": "d14e0c5f",
   "metadata": {},
   "outputs": [],
   "source": [
    "### Defining Tensor computations ###\n",
    "\n",
    "# Construct a simple computation function\n",
    "def func(a,b):\n",
    "    c = tf.add(a, b)\n",
    "    d = tf.subtract(b, 1)\n",
    "    e = tf.multiply(c, d)\n",
    "    return e"
   ]
  },
  {
   "cell_type": "code",
   "execution_count": 8,
   "id": "a620c23f",
   "metadata": {},
   "outputs": [
    {
     "name": "stdout",
     "output_type": "stream",
     "text": [
      "tf.Tensor(6.0, shape=(), dtype=float32)\n"
     ]
    }
   ],
   "source": [
    "# Consider example values for a,b\n",
    "a, b = 1.5, 2.5\n",
    "# Execute the computation\n",
    "e_out = func(a,b)\n",
    "print(e_out)"
   ]
  },
  {
   "cell_type": "markdown",
   "id": "75039707",
   "metadata": {},
   "source": [
    "#### Date: 9th May\n",
    "- Defining neural networks with TensorFlow"
   ]
  },
  {
   "cell_type": "code",
   "execution_count": 10,
   "id": "a7cff9fd",
   "metadata": {},
   "outputs": [
    {
     "name": "stdout",
     "output_type": "stream",
     "text": [
      "[[0.26978594 0.45750415 0.66536945]]\n",
      "[PASS] test_custom_dense_layer_output\n"
     ]
    },
    {
     "data": {
      "text/plain": [
       "True"
      ]
     },
     "execution_count": 10,
     "metadata": {},
     "output_type": "execute_result"
    }
   ],
   "source": [
    "### Defining a network Layer ###\n",
    "\n",
    "# n_output_nodes: number of output nodes\n",
    "# input_shape: shape of the input\n",
    "# x: input to the layer\n",
    "\n",
    "class OurDenseLayer(tf.keras.layers.Layer):\n",
    "  def __init__(self, n_output_nodes):\n",
    "    super(OurDenseLayer, self).__init__()\n",
    "    self.n_output_nodes = n_output_nodes\n",
    "\n",
    "  def build(self, input_shape):\n",
    "    d = int(input_shape[-1])\n",
    "    # Define and initialize parameters: a weight matrix W and bias b\n",
    "    # Note that parameter initialization is random!\n",
    "    self.W = self.add_weight(\"weight\", shape=[d, self.n_output_nodes]) # note the dimensionality\n",
    "    self.b = self.add_weight(\"bias\", shape=[1, self.n_output_nodes]) # note the dimensionality\n",
    "\n",
    "  def call(self, x):\n",
    "    '''TODO: define the operation for z (hint: use tf.matmul)'''\n",
    "    z = tf.add(tf.matmul(x, sreturn xelf.W), self.b)\n",
    "\n",
    "    '''TODO: define the operation for out (hint: use tf.sigmoid)'''\n",
    "    y = tf.sigmoid(z)\n",
    "    return y\n",
    "\n",
    "# Since layer parameters are initialized randomly, we will set a random seed for reproducibility\n",
    "tf.random.set_seed(1)\n",
    "layer = OurDenseLayer(3)\n",
    "layer.build((1,2))\n",
    "x_input = tf.constant([[1,2.]], shape=(1,2))\n",
    "y = layer.call(x_input)\n",
    "\n",
    "# test the output!\n",
    "print(y.numpy())\n",
    "mdl.lab1.test_custom_dense_layer_output(y)"
   ]
  },
  {
   "cell_type": "code",
   "execution_count": 17,
   "id": "391dc1ee",
   "metadata": {},
   "outputs": [],
   "source": [
    "### Defining a neural network using the Sequential API ###\n",
    "\n",
    "# Import relevant packages\n",
    "from tensorflow.keras import Sequential\n",
    "from tensorflow.keras.layers import Dense\n",
    "\n",
    "# Define the number of outputs\n",
    "n_output_nodes = 3\n",
    "\n",
    "# First define the model \n",
    "model = Sequential()\n",
    "\n",
    "'''TODO: Define a dense (fully connected) layer to compute z'''\n",
    "# Remember: dense layers are defined by the parameters W and b!\n",
    "# You can read more about the initialization of W and b in the TF documentation :) \n",
    "# https://www.tensorflow.org/api_docs/python/tf/keras/layers/Dense?version=stable\n",
    "dense_layer = Dense(3, activation='relu')\n",
    "# Add the dense layer to the model\n",
    "model.add(dense_layer)"
   ]
  },
  {
   "cell_type": "code",
   "execution_count": 18,
   "id": "3ba4096d",
   "metadata": {},
   "outputs": [
    {
     "name": "stdout",
     "output_type": "stream",
     "text": [
      "tf.Tensor([[0.62118787 0.         1.6387595 ]], shape=(1, 3), dtype=float32)\n"
     ]
    }
   ],
   "source": [
    "# Test model with example input\n",
    "x_input = tf.constant([[1,2.]], shape=(1,2))\n",
    "\n",
    "'''TODO: feed input into the model and predict the output!'''\n",
    "model_output = model(x_input)\n",
    "print(model_output)"
   ]
  },
  {
   "cell_type": "code",
   "execution_count": 21,
   "id": "d65329c8",
   "metadata": {},
   "outputs": [],
   "source": [
    "### Defining a model using subclassing ###\n",
    "\n",
    "from tensorflow.keras import Model\n",
    "from tensorflow.keras.layers import Dense\n",
    "\n",
    "class SubclassModel(tf.keras.Model):\n",
    "\n",
    "  # In __init__, we define the Model's layers\n",
    "  def __init__(self, n_output_nodes):\n",
    "    super(SubclassModel, self).__init__()\n",
    "    '''TODO: Our model consists of a single Dense layer. Define this layer.''' \n",
    "    self.dense_layer = Dense(n_output_nodes, activation='sigmoid')\n",
    "\n",
    "  # In the call function, we define the Model's forward pass.\n",
    "  def call(self, inputs):\n",
    "    return self.dense_layer(inputs)"
   ]
  },
  {
   "cell_type": "code",
   "execution_count": 22,
   "id": "c44170cc",
   "metadata": {},
   "outputs": [
    {
     "name": "stdout",
     "output_type": "stream",
     "text": [
      "tf.Tensor([[0.1969584 0.6330007 0.7668015]], shape=(1, 3), dtype=float32)\n"
     ]
    }
   ],
   "source": [
    "n_output_nodes = 3\n",
    "model = SubclassModel(n_output_nodes)\n",
    "\n",
    "x_input = tf.constant([[1,2.]], shape=(1,2))\n",
    "\n",
    "print(model.call(x_input))"
   ]
  },
  {
   "cell_type": "code",
   "execution_count": 27,
   "id": "50299002",
   "metadata": {},
   "outputs": [],
   "source": [
    "### Defining a model using subclassing and specifying custom behavior ###\n",
    "\n",
    "from tensorflow.keras import Model\n",
    "from tensorflow.keras.layers import Dense\n",
    "\n",
    "class IdentityModel(tf.keras.Model):\n",
    "\n",
    "  # As before, in __init__ we define the Model's layers\n",
    "  # Since our desired behavior involves the forward pass, this part is unchanged\n",
    "  def __init__(self, n_output_nodes):\n",
    "    super(IdentityModel, self).__init__()\n",
    "    self.dense_layer = tf.keras.layers.Dense(n_output_nodes, activation='sigmoid')\n",
    "\n",
    "  '''TODO: Implement the behavior where the network outputs the input, unchanged, \n",
    "      under control of the isidentity argument.'''\n",
    "  def call(self, inputs, isidentity=False):\n",
    "    x = self.dense_layer(inputs)\n",
    "    '''TODO: Implement identity behavior'''\n",
    "    if isidentity == True:\n",
    "        return inputs\n",
    "    else:\n",
    "        return x"
   ]
  },
  {
   "cell_type": "code",
   "execution_count": 28,
   "id": "90f0cd05",
   "metadata": {},
   "outputs": [
    {
     "name": "stdout",
     "output_type": "stream",
     "text": [
      "Network output with activation: [[0.11969811 0.4301142  0.3474862 ]]; network identity output: [[1. 2.]]\n"
     ]
    }
   ],
   "source": [
    "n_output_nodes = 3\n",
    "model = IdentityModel(n_output_nodes)\n",
    "\n",
    "x_input = tf.constant([[1,2.]], shape=(1,2))\n",
    "'''TODO: pass the input into the model and call with and without the input identity option.'''\n",
    "out_activate = model.call(x_input, isidentity=False)\n",
    "out_identity = model.call(x_input, isidentity=True)\n",
    "\n",
    "print(\"Network output with activation: {}; network identity output: {}\".format(out_activate.numpy(), out_identity.numpy()))"
   ]
  },
  {
   "cell_type": "markdown",
   "id": "b3e68e04",
   "metadata": {},
   "source": [
    "#### Computing gradients using gradient.tape"
   ]
  },
  {
   "cell_type": "code",
   "execution_count": 29,
   "id": "451ebb5c",
   "metadata": {},
   "outputs": [],
   "source": [
    "### Gradient computation with GradientTape ###\n",
    "\n",
    "# y = x^2\n",
    "# Example: x = 3.0\n",
    "x = tf.Variable(3.0)\n",
    "\n",
    "# Initiate the gradient tape\n",
    "with tf.GradientTape() as tape:\n",
    "  # Define the function\n",
    "  y = x * x\n",
    "# Access the gradient -- derivative of y with respect to x\n",
    "dy_dx = tape.gradient(y, x)\n",
    "\n",
    "assert dy_dx.numpy() == 6.0"
   ]
  },
  {
   "cell_type": "code",
   "execution_count": 30,
   "id": "76a85ef4",
   "metadata": {},
   "outputs": [
    {
     "name": "stdout",
     "output_type": "stream",
     "text": [
      "Initializing x=[[-0.39749852]]\n"
     ]
    },
    {
     "data": {
      "text/plain": [
       "Text(0, 0.5, 'x value')"
      ]
     },
     "execution_count": 30,
     "metadata": {},
     "output_type": "execute_result"
    },
    {
     "data": {
      "image/png": "[encoded data removed]",
      "text/plain": [
       "<Figure size 432x288 with 1 Axes>"
      ]
     },
     "metadata": {
      "needs_background": "light"
     },
     "output_type": "display_data"
    }
   ],
   "source": [
    "### Function minimization with automatic differentiation and SGD ###\n",
    "\n",
    "# Initialize a random value for our initial x\n",
    "x = tf.Variable([tf.random.normal([1])])\n",
    "print(\"Initializing x={}\".format(x.numpy()))\n",
    "\n",
    "learning_rate = 1e-2 # learning rate for SGD\n",
    "history = []\n",
    "# Define the target value\n",
    "x_f = 4\n",
    "\n",
    "# We will run SGD for a number of iterations. At each iteration, we compute the loss, \n",
    "#   compute the derivative of the loss with respect to x, and perform the SGD update.\n",
    "for i in range(500):\n",
    "  with tf.GradientTape() as tape:\n",
    "    '''TODO: define the loss as described above'''\n",
    "    loss = pow((x - x_f), 2)\n",
    "\n",
    "  # loss minimization using gradient tape\n",
    "  grad = tape.gradient(loss, x) # compute the derivative of the loss with respect to x\n",
    "  new_x = x - learning_rate*grad # sgd update\n",
    "  x.assign(new_x) # update the value of x\n",
    "  history.append(x.numpy()[0])\n",
    "\n",
    "# Plot the evolution of x as we optimize towards x_f!\n",
    "plt.plot(history)\n",
    "plt.plot([0, 500],[x_f,x_f])\n",
    "plt.legend(('Predicted', 'True'))\n",
    "plt.xlabel('Iteration')\n",
    "plt.ylabel('x value')"
   ]
  }
 ],
 "metadata": {
  "kernelspec": {
   "display_name": "Python 3 (ipykernel)",
   "language": "python",
   "name": "python3"
  },
  "language_info": {
   "codemirror_mode": {
    "name": "ipython",
    "version": 3
   },
   "file_extension": ".py",
   "mimetype": "text/x-python",
   "name": "python",
   "nbconvert_exporter": "python",
   "pygments_lexer": "ipython3",
   "version": "3.9.7"
  }
 },
 "nbformat": 4,
 "nbformat_minor": 5
}
