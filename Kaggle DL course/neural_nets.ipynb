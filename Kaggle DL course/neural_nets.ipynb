{
 "cells": [
  {
   "cell_type": "markdown",
   "id": "671f40dd",
   "metadata": {},
   "source": [
    "### Kaggle Deep Learning course\n",
    "#### Date: 16th may 2022\n",
    "- https://www.kaggle.com/code/ryanholbrook/a-single-neuron"
   ]
  },
  {
   "cell_type": "code",
   "execution_count": 1,
   "id": "6c1e91c4",
   "metadata": {},
   "outputs": [],
   "source": [
    "from IPython.display import Image"
   ]
  },
  {
   "cell_type": "markdown",
   "id": "71738971",
   "metadata": {},
   "source": [
    "**Why is biased (b) used in a neuron?**\n",
    "\n",
    "In effect, **a bias value allows you to shift the activation function to the left or right**, which may be critical for successful learning. \n",
    "\n",
    "The bias enables the neuron to modify the output independently of its inputs (https://stackoverflow.com/questions/2480650/what-is-the-role-of-the-bias-in-neural-networks))\n",
    "\n",
    "The `y` is the value the neuron ultimately outputs. To get the output, the neuron sums up all the values it receives through its connections. This neuron's activation is `y = w * x + b`, or as a formula *y=wx+b*\n",
    "\n",
    "> Does the formula *y=wx+b* look familiar? \n",
    "> It's an equation of a line! It's the slope-intercept equation, where **w** is the slope and **b** is the y-intercept.\n",
    "\n",
    "****Example - The Linear Unit as a Model****\n",
    "\n",
    "- single unit neuron\n",
    "\n",
    "##### ADD IMAGE\n",
    "\n",
    "Above example represents 80s cereal dataset. Here we’re trying to use a single neuron to predict the calorie intake, given the sugar content. The sugar content = 5 grams! By using the **y = wx + b** we get, b = 90 and w =0.5. Therefore, y = 0.5 *5 + 90 = 102.5 calories\n",
    "\n",
    "- Multiple inputs\n",
    "\n",
    "Multiple inputs means that you are feeding multiple features to the model. So for instance if we wanted to use sugar content, calcium content, protein intake as additional features to predict the calories, then we have a neural network with multiple input nodes. Each node representing a feature and a weight associated with that feature. See below:\n",
    "\n",
    "##### ADD IMAGE\n",
    "\n",
    "The formula for this neuron would be **y=w0x0+w1x1+w2x2+b**. A linear unit with two inputs will fit a plane, and a unit with more inputs than that will fit a hyperplane."
   ]
  },
  {
   "cell_type": "markdown",
   "id": "4f8cf00a",
   "metadata": {},
   "source": [
    "### Linear units in Keras"
   ]
  },
  {
   "cell_type": "code",
   "execution_count": 2,
   "id": "802e6548",
   "metadata": {},
   "outputs": [],
   "source": [
    "from tensorflow import keras\n",
    "from tensorflow.keras import layers"
   ]
  },
  {
   "cell_type": "code",
   "execution_count": 6,
   "id": "7921f7ec",
   "metadata": {},
   "outputs": [],
   "source": [
    "### a nn with one output unit and 3 inputs (these imputs denote features)\n",
    "model = keras.Sequential([\n",
    "    layers.Dense(1, input_shape=[3])\n",
    "                         ])"
   ]
  },
  {
   "cell_type": "code",
   "execution_count": 8,
   "id": "b1ef0a12",
   "metadata": {},
   "outputs": [
    {
     "name": "stdout",
     "output_type": "stream",
     "text": [
      "Model: \"sequential\"\n",
      "_________________________________________________________________\n",
      " Layer (type)                Output Shape              Param #   \n",
      "=================================================================\n",
      " dense (Dense)               (None, 1)                 4         \n",
      "                                                                 \n",
      "=================================================================\n",
      "Total params: 4\n",
      "Trainable params: 4\n",
      "Non-trainable params: 0\n",
      "_________________________________________________________________\n"
     ]
    }
   ],
   "source": [
    "### inspect the layers and units of a NN\n",
    "### model shows 1 dense layer with output shape 1, input type is None (i think?)\n",
    "model.summary()"
   ]
  },
  {
   "cell_type": "markdown",
   "id": "00fda5c7",
   "metadata": {},
   "source": [
    "- first argument, units, we define how many outputs we want\n",
    "- second argument, input_shape, we tell Keras the dimensions of the inputs. Setting input_shape=[3] ensures the model will accept three features as input\n",
    "\n",
    "> **Why is input_shape a Python list?**\n",
    "The data we'll use in this course will be tabular data, like in a Pandas dataframe. We'll have one input for each feature in the dataset. The features are arranged by column, so we'll always have input_shape=[num_columns]. The reason Keras uses a list here is to permit use of more complex datasets. Image data, for instance, might need three dimensions: [height, width, channels]."
   ]
  },
  {
   "cell_type": "markdown",
   "id": "85e7e128",
   "metadata": {},
   "source": [
    "- next: https://www.kaggle.com/code/ryanholbrook/deep-neural-networks"
   ]
  }
 ],
 "metadata": {
  "kernelspec": {
   "display_name": "Python 3 (ipykernel)",
   "language": "python",
   "name": "python3"
  },
  "language_info": {
   "codemirror_mode": {
    "name": "ipython",
    "version": 3
   },
   "file_extension": ".py",
   "mimetype": "text/x-python",
   "name": "python",
   "nbconvert_exporter": "python",
   "pygments_lexer": "ipython3",
   "version": "3.9.7"
  }
 },
 "nbformat": 4,
 "nbformat_minor": 5
}
