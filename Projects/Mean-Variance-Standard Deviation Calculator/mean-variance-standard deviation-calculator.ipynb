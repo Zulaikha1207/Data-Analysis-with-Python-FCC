{
 "cells": [
  {
   "cell_type": "code",
   "execution_count": 1,
   "id": "9aec16a4",
   "metadata": {},
   "outputs": [],
   "source": [
    "import numpy as np"
   ]
  },
  {
   "cell_type": "code",
   "execution_count": 2,
   "id": "3986eaa6",
   "metadata": {},
   "outputs": [],
   "source": [
    "x = [0,1,2,3,4,5,6,7,8]"
   ]
  },
  {
   "cell_type": "code",
   "execution_count": 3,
   "id": "e9ad34c4",
   "metadata": {},
   "outputs": [],
   "source": [
    "def calculate(num):\n",
    "    if len(num) != 9:\n",
    "        raise ValueError('List must contain nine numbers.')\n",
    "    else:\n",
    "        mean = []\n",
    "        var = []\n",
    "        std_dev = []\n",
    "        maximum = []\n",
    "        minimum = []\n",
    "        summ = []\n",
    "        calc = {}\n",
    "        keys = ['mean', 'variance', 'standard deviation', 'max', 'min', 'sum']\n",
    "        calc.fromkeys(keys)\n",
    "        num = np.array(num).reshape(3,3)\n",
    "        mean.append((np.mean(num, axis=0)).tolist())\n",
    "        mean.append((np.mean(num, axis=1)).tolist())\n",
    "        mean.append(num.flatten().mean())\n",
    "        calc['mean'] = mean\n",
    "        var.append((np.var(num, axis=0)).tolist())\n",
    "        var.append((np.var(num, axis=1)).tolist())\n",
    "        var.append(num.flatten().var())\n",
    "        calc['variance'] = var\n",
    "        std_dev.append((np.std(num, axis=0)).tolist())\n",
    "        std_dev.append((np.std(num, axis=1)).tolist())\n",
    "        std_dev.append(num.flatten().std())\n",
    "        calc['standard deviation'] = std_dev\n",
    "        maximum.append((np.max(num, axis=0)).tolist())\n",
    "        maximum.append((np.max(num, axis=1)).tolist())\n",
    "        maximum.append(num.flatten().max())\n",
    "        calc['max'] = maximum\n",
    "        minimum.append((np.min(num, axis=0)).tolist())\n",
    "        minimum.append((np.min(num, axis=1)).tolist())\n",
    "        minimum.append(num.flatten().min())\n",
    "        calc['min'] = minimum\n",
    "        summ.append((np.sum(num, axis=0)).tolist())\n",
    "        summ.append((np.sum(num, axis=1)).tolist())\n",
    "        summ.append(num.flatten().sum())\n",
    "        calc['sum'] = summ\n",
    "    return calc"
   ]
  },
  {
   "cell_type": "code",
   "execution_count": 4,
   "id": "dd74d793",
   "metadata": {},
   "outputs": [
    {
     "data": {
      "text/plain": [
       "{'mean': [[3.0, 4.0, 5.0], [1.0, 4.0, 7.0], 4.0],\n",
       " 'variance': [[6.0, 6.0, 6.0],\n",
       "  [0.6666666666666666, 0.6666666666666666, 0.6666666666666666],\n",
       "  6.666666666666667],\n",
       " 'standard deviation': [[2.449489742783178,\n",
       "   2.449489742783178,\n",
       "   2.449489742783178],\n",
       "  [0.816496580927726, 0.816496580927726, 0.816496580927726],\n",
       "  2.581988897471611],\n",
       " 'max': [[6, 7, 8], [2, 5, 8], 8],\n",
       " 'min': [[0, 1, 2], [0, 3, 6], 0],\n",
       " 'sum': [[9, 12, 15], [3, 12, 21], 36]}"
      ]
     },
     "execution_count": 4,
     "metadata": {},
     "output_type": "execute_result"
    }
   ],
   "source": [
    "calculate(x)"
   ]
  }
 ],
 "metadata": {
  "kernelspec": {
   "display_name": "Python 3 (ipykernel)",
   "language": "python",
   "name": "python3"
  },
  "language_info": {
   "codemirror_mode": {
    "name": "ipython",
    "version": 3
   },
   "file_extension": ".py",
   "mimetype": "text/x-python",
   "name": "python",
   "nbconvert_exporter": "python",
   "pygments_lexer": "ipython3",
   "version": "3.9.7"
  }
 },
 "nbformat": 4,
 "nbformat_minor": 5
}
