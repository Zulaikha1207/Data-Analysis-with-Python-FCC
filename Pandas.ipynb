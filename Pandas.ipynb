{
 "cells": [
  {
   "cell_type": "markdown",
   "id": "873e388c",
   "metadata": {},
   "source": [
    "## Introduction to Pandas\n",
    "## Date: 25/1/22"
   ]
  },
  {
   "cell_type": "markdown",
   "id": "237805d9",
   "metadata": {},
   "source": [
    "Pandas has two main data structures, namely series and dataframes\n",
    "### Understanding Pandas Series"
   ]
  },
  {
   "cell_type": "code",
   "execution_count": 1,
   "id": "ef675b0a",
   "metadata": {},
   "outputs": [],
   "source": [
    "import numpy as np\n",
    "import pandas as pd"
   ]
  },
  {
   "cell_type": "code",
   "execution_count": 4,
   "id": "a29e6bf3",
   "metadata": {},
   "outputs": [
    {
     "data": {
      "text/plain": [
       "0    20\n",
       "1    23\n",
       "2    43\n",
       "3    21\n",
       "4    27\n",
       "5    25\n",
       "6    26\n",
       "dtype: int64"
      ]
     },
     "execution_count": 4,
     "metadata": {},
     "output_type": "execute_result"
    }
   ],
   "source": [
    "#series data structure\n",
    "age = pd.Series([20, 23, 43, 21, 27, 25, 26])\n",
    "age"
   ]
  },
  {
   "cell_type": "code",
   "execution_count": 35,
   "id": "3fd6bd06",
   "metadata": {},
   "outputs": [
    {
     "data": {
      "text/plain": [
       "chris        20\n",
       "sam          23\n",
       "zelda        21\n",
       "ghosling     25\n",
       "hemsworth    26\n",
       "dtype: int64"
      ]
     },
     "execution_count": 35,
     "metadata": {},
     "output_type": "execute_result"
    }
   ],
   "source": [
    "# you can perform boolean (mask) operations just like in an array or list. \n",
    "age < 25\n",
    "age[age<25]\n",
    "age[age < age.mean()]"
   ]
  },
  {
   "cell_type": "code",
   "execution_count": 20,
   "id": "c177717f",
   "metadata": {},
   "outputs": [
    {
     "name": "stdout",
     "output_type": "stream",
     "text": [
      "<class 'pandas.core.series.Series'>\n",
      "int64\n",
      "[20 23 43 21 27 25 26]\n",
      "26.428571428571427\n"
     ]
    }
   ],
   "source": [
    "#Exploring the pandas series object\n",
    "print(type(age))\n",
    "print(age.dtype)\n",
    "print(age.values)\n",
    "print(age.mean())"
   ]
  },
  {
   "cell_type": "markdown",
   "id": "6ad73627",
   "metadata": {},
   "source": [
    "### Difference between numpy array and pandas series:\n",
    "- The essential difference is the presence of the index: while the Numpy Array has an implicitly defined integer index used to access the values, the Pandas Series has an explicitly defined index associated with the values.\n",
    "- Series is different from lists in the fact that all elements of the series will be of the same type. However, in a list this is not the case."
   ]
  },
  {
   "cell_type": "code",
   "execution_count": 14,
   "id": "e91409f1",
   "metadata": {},
   "outputs": [
    {
     "name": "stdout",
     "output_type": "stream",
     "text": [
      "This is a numpy array  [0 1 2 3 4]\n",
      "This is a Pandas series\n",
      " 0    0\n",
      "1    1\n",
      "2    2\n",
      "3    3\n",
      "4    4\n",
      "dtype: int64\n"
     ]
    }
   ],
   "source": [
    "# numpy array\n",
    "a = np.array(range(0, 5))\n",
    "print('This is a numpy array ',a)\n",
    "# pandas series\n",
    "b = pd.Series(range(0, 5))\n",
    "print('This is a Pandas series\\n', b)"
   ]
  },
  {
   "cell_type": "markdown",
   "id": "d7a40192",
   "metadata": {},
   "source": [
    "With pandas series we can change the index and assign it names, for instance:"
   ]
  },
  {
   "cell_type": "code",
   "execution_count": 26,
   "id": "40198a35",
   "metadata": {},
   "outputs": [
    {
     "name": "stdout",
     "output_type": "stream",
     "text": [
      "chris        20\n",
      "sam          23\n",
      "leah         43\n",
      "zelda        21\n",
      "ryan         27\n",
      "ghosling     25\n",
      "hemsworth    26\n",
      "dtype: int64\n"
     ]
    }
   ],
   "source": [
    "age.index = ['chris','sam', 'leah', 'zelda', 'ryan', 'ghosling', 'hemsworth']\n",
    "print(age)"
   ]
  },
  {
   "cell_type": "code",
   "execution_count": 31,
   "id": "665b9ae8",
   "metadata": {},
   "outputs": [
    {
     "data": {
      "text/plain": [
       "chris    20\n",
       "sam      23\n",
       "leah     43\n",
       "dtype: int64"
      ]
     },
     "execution_count": 31,
     "metadata": {},
     "output_type": "execute_result"
    }
   ],
   "source": [
    "#indexing\n",
    "age['chris']\n",
    "#multiindex\n",
    "age[['chris', 'zelda']]\n",
    "#using iloc\n",
    "age.iloc[0:3]"
   ]
  },
  {
   "cell_type": "code",
   "execution_count": 33,
   "id": "7c71ffdf",
   "metadata": {},
   "outputs": [
    {
     "data": {
      "text/plain": [
       "chris    20\n",
       "sam      23\n",
       "leah     43\n",
       "zelda    21\n",
       "ryan     27\n",
       "dtype: int64"
      ]
     },
     "execution_count": 33,
     "metadata": {},
     "output_type": "execute_result"
    }
   ],
   "source": [
    "#in pandas series, the upper limit during indexing is always included. Note that\n",
    "# this is not the case with python lists or numpy arrays\n",
    "age['chris': 'ryan']\n",
    "#here ryan is also included "
   ]
  },
  {
   "cell_type": "markdown",
   "id": "dd319175",
   "metadata": {},
   "source": [
    "## Some exercise\n",
    "## Date: 25/1/22"
   ]
  },
  {
   "cell_type": "code",
   "execution_count": 36,
   "id": "3388b7ae",
   "metadata": {},
   "outputs": [
    {
     "name": "stdout",
     "output_type": "stream",
     "text": [
      "first     1\n",
      "second    2\n",
      "third     3\n",
      "forth     4\n",
      "fifth     5\n",
      "dtype: int64\n"
     ]
    }
   ],
   "source": [
    "# Order (sort) the given pandas Series\n",
    "X = pd.Series([4,2,5,1,3],\n",
    "              index=['forth','second','fifth','first','third'])\n",
    "X = X.sort_values()\n",
    "print(X)"
   ]
  }
 ],
 "metadata": {
  "kernelspec": {
   "display_name": "Python 3 (ipykernel)",
   "language": "python",
   "name": "python3"
  },
  "language_info": {
   "codemirror_mode": {
    "name": "ipython",
    "version": 3
   },
   "file_extension": ".py",
   "mimetype": "text/x-python",
   "name": "python",
   "nbconvert_exporter": "python",
   "pygments_lexer": "ipython3",
   "version": "3.9.7"
  }
 },
 "nbformat": 4,
 "nbformat_minor": 5
}
